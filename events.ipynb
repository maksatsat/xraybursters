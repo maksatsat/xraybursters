{
 "cells": [
  {
   "cell_type": "code",
   "execution_count": 27,
   "metadata": {},
   "outputs": [],
   "source": [
    "from event_generator import Events"
   ]
  },
  {
   "cell_type": "code",
   "execution_count": 28,
   "metadata": {},
   "outputs": [],
   "source": [
    "import matplotlib.pyplot as plt\n",
    "import numpy as np\n",
    "def plot(events):\n",
    "    plt.figure(figsize=(20,1))\n",
    "    plt.plot(events, np.zeros_like(events), 'or', marker='|', markersize=15)\n",
    "    plt.grid()\n",
    "    plt.show()"
   ]
  },
  {
   "cell_type": "code",
   "execution_count": 29,
   "metadata": {},
   "outputs": [
    {
     "data": {
      "image/png": "[encoded data removed]",
      "text/plain": [
       "<Figure size 1440x72 with 1 Axes>"
      ]
     },
     "metadata": {
      "needs_background": "light"
     },
     "output_type": "display_data"
    }
   ],
   "source": [
    "a = Events(1/3, [['2020-10-22 08:15:27.243860','2020-10-22 08:17:00.713311'],['2020-10-22 08:17:59.123542','2020-10-22 08:21:06.957365'],['2020-10-22 08:21:27.443803','2020-10-22 08:25:13.811805']])\n",
    "plot(a.events)"
   ]
  },
  {
   "cell_type": "markdown",
   "metadata": {},
   "source": [
    "Времена между событиями подчиняются экспоненциальному распределению $Exp(\\lambda)$\n",
    "\n",
    "Для $Exp(\\lambda)\\;\\;$: $\\displaystyle\\mathbb{E}[X^n]=\\frac{n!}{\\lambda^n}$\n",
    "\n",
    "$\\displaystyle\\lambda_n=\\sqrt[n]{\\frac{n!}{\\mathbb{E}[X^n]}}$\n"
   ]
  },
  {
   "cell_type": "code",
   "execution_count": 148,
   "metadata": {},
   "outputs": [
    {
     "data": {
      "text/html": [
       "<table>\n",
       "<tbody>\n",
       "<tr><td>m          </td><td style=\"text-align: right;\">53.8376</td><td style=\"text-align: right;\">21.3483</td><td style=\"text-align: right;\">15.3218</td><td style=\"text-align: right;\">15.0825</td><td style=\"text-align: right;\">96.8186</td></tr>\n",
       "<tr><td>$\\lambda_1$</td><td style=\"text-align: right;\">54.0114</td><td style=\"text-align: right;\">21.4728</td><td style=\"text-align: right;\">15.1588</td><td style=\"text-align: right;\">15.233 </td><td style=\"text-align: right;\">96.5394</td></tr>\n",
       "<tr><td>$\\lambda_2$</td><td style=\"text-align: right;\">54.093 </td><td style=\"text-align: right;\">21.5615</td><td style=\"text-align: right;\">15.1127</td><td style=\"text-align: right;\">15.1556</td><td style=\"text-align: right;\">96.8601</td></tr>\n",
       "<tr><td>$\\lambda_3$</td><td style=\"text-align: right;\">54.2492</td><td style=\"text-align: right;\">21.5949</td><td style=\"text-align: right;\">15.0219</td><td style=\"text-align: right;\">15.0684</td><td style=\"text-align: right;\">97.0458</td></tr>\n",
       "</tbody>\n",
       "</table>"
      ],
      "text/plain": [
       "<IPython.core.display.HTML object>"
      ]
     },
     "metadata": {},
     "output_type": "display_data"
    }
   ],
   "source": [
    "import random\n",
    "from IPython.display import HTML, display\n",
    "import tabulate\n",
    "\n",
    "m0 = []\n",
    "m1 = []\n",
    "m2 = []\n",
    "m3 = []\n",
    "for n in range(5):\n",
    "    m = random.random()*100\n",
    "    a = Events(m, [['2020-10-22 08:15:27.243860','2020-10-22 08:27:00.713311']])\n",
    "    evts = np.array(a.events_in_seconds)\n",
    "    time_intervals = evts[1:]-evts[:-1]\n",
    "    m0.append(m)\n",
    "    m1.append(np.power(1/np.mean(time_intervals**1), 1/1))\n",
    "    m2.append(np.power(2/np.mean(time_intervals**2), 1/2))\n",
    "    m3.append(np.power(6/np.mean(time_intervals**3), 1/3))\n",
    "\n",
    "\n",
    "table = [[\"m\", *m0],\n",
    "         [\"$\\lambda_1$\",*m1],\n",
    "         [\"$\\lambda_2$\",*m2],\n",
    "         [\"$\\lambda_3$\",*m3]]\n",
    "display(HTML(tabulate.tabulate(table, tablefmt='html')))"
   ]
  }
 ],
 "metadata": {
  "kernelspec": {
   "display_name": "Python 3",
   "language": "python",
   "name": "python3"
  },
  "language_info": {
   "codemirror_mode": {
    "name": "ipython",
    "version": 3
   },
   "file_extension": ".py",
   "mimetype": "text/x-python",
   "name": "python",
   "nbconvert_exporter": "python",
   "pygments_lexer": "ipython3",
   "version": "3.7.3"
  }
 },
 "nbformat": 4,
 "nbformat_minor": 2
}
