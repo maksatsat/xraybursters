{
 "cells": [
  {
   "cell_type": "code",
   "execution_count": 1,
   "metadata": {},
   "outputs": [],
   "source": [
    "from event_generator import Events"
   ]
  },
  {
   "cell_type": "code",
   "execution_count": 6,
   "metadata": {},
   "outputs": [],
   "source": [
    "import matplotlib.pyplot as plt\n",
    "import numpy as np\n",
    "def plot(events):\n",
    "    plt.figure(figsize=(20,1))\n",
    "    plt.plot(events, np.zeros_like(events), 'or', marker='|', markersize=15)\n",
    "    plt.grid()\n",
    "    plt.show()"
   ]
  },
  {
   "cell_type": "code",
   "execution_count": 7,
   "metadata": {},
   "outputs": [
    {
     "data": {
      "image/png": "[encoded data removed]",
      "text/plain": [
       "<Figure size 1440x72 with 1 Axes>"
      ]
     },
     "metadata": {
      "needs_background": "light"
     },
     "output_type": "display_data"
    }
   ],
   "source": [
    "a = Events(1/6, [['2020-10-22 09:00:00.000000','2020-10-22 09:05:00.000000'],['2020-10-22 09:10:00.000000','2020-10-22 09:25:00.000000']], 300, 100)\n",
    "plot(a.events)"
   ]
  },
  {
   "cell_type": "markdown",
   "metadata": {},
   "source": [
    "Времена между событиями подчиняются экспоненциальному распределению $Exp(\\lambda)$\n",
    "\n",
    "Для $Exp(\\lambda)\\;\\;$: $\\displaystyle\\mathbb{E}[X^n]=\\frac{n!}{\\lambda^n}$\n",
    "\n",
    "$\\displaystyle\\lambda_n=\\sqrt[n]{\\frac{n!}{\\mathbb{E}[X^n]}}$\n"
   ]
  },
  {
   "cell_type": "code",
   "execution_count": 10,
   "metadata": {},
   "outputs": [
    {
     "data": {
      "text/html": [
       "<table>\n",
       "<tbody>\n",
       "<tr><td>m                 </td><td>$\\lambda_1$       </td><td>$\\lambda_2$       </td><td>$\\lambda_3$        </td></tr>\n",
       "<tr><td>3.7170450481326056</td><td>2.8477620728010735</td><td>0.486252857607887 </td><td>0.192936848865592  </td></tr>\n",
       "<tr><td>62.10933887619512 </td><td>49.72439386704478 </td><td>2.174390686702448 </td><td>0.5216436834268249 </td></tr>\n",
       "<tr><td>76.01240319689018 </td><td>64.19738710991997 </td><td>2.8795753615170923</td><td>0.6291937932464443 </td></tr>\n",
       "<tr><td>1.9499078850288898</td><td>1.5923379336528705</td><td>0.388083909863207 </td><td>0.16699135669798534</td></tr>\n",
       "<tr><td>61.62717083955847 </td><td>52.341926110668965</td><td>2.6171799421185336</td><td>0.5904010300776824 </td></tr>\n",
       "</tbody>\n",
       "</table>"
      ],
      "text/plain": [
       "<IPython.core.display.HTML object>"
      ]
     },
     "metadata": {},
     "output_type": "display_data"
    }
   ],
   "source": [
    "import random\n",
    "from IPython.display import HTML, display\n",
    "import tabulate\n",
    "\n",
    "m0 = []\n",
    "m1 = []\n",
    "m2 = []\n",
    "m3 = []\n",
    "for n in range(5):\n",
    "    m = random.random()*100\n",
    "    a = Events(m, [['2020-10-22 08:15:27.243860','2020-10-22 08:27:00.713311']], 300, 100)\n",
    "    l0, l1, l2, l3 = Check_Poissoness(a)\n",
    "    m0.append(l0)\n",
    "    \n",
    "    \n",
    "    m1.append(np.power(1/np.mean(time_intervals**1), 1/1))\n",
    "    m2.append(np.power(2/np.mean(time_intervals**2), 1/2))\n",
    "    m3.append(np.power(6/np.mean(time_intervals**3), 1/3))\n",
    "\n",
    "\n",
    "table = [[\"m\", *m0],\n",
    "         [\"$\\lambda_1$\",*m1],\n",
    "         [\"$\\lambda_2$\",*m2],\n",
    "         [\"$\\lambda_3$\",*m3]]\n",
    "table = map(list, zip(*table)) #транспонирование\n",
    "display(HTML(tabulate.tabulate(table, tablefmt='html')))"
   ]
  },
  {
   "cell_type": "code",
   "execution_count": 9,
   "metadata": {},
   "outputs": [
    {
     "data": {
      "text/plain": [
       "(0.16666666666666666,\n",
       " 0.16846998469346994,\n",
       " 0.17140195801605368,\n",
       " 0.17982964580388502)"
      ]
     },
     "execution_count": 9,
     "metadata": {},
     "output_type": "execute_result"
    }
   ],
   "source": [
    "from event_generator import Check_Poissoness\n",
    "Check_Poissoness(a)"
   ]
  },
  {
   "cell_type": "code",
   "execution_count": null,
   "metadata": {},
   "outputs": [],
   "source": []
  }
 ],
 "metadata": {
  "kernelspec": {
   "display_name": "Python 3",
   "language": "python",
   "name": "python3"
  },
  "language_info": {
   "codemirror_mode": {
    "name": "ipython",
    "version": 3
   },
   "file_extension": ".py",
   "mimetype": "text/x-python",
   "name": "python",
   "nbconvert_exporter": "python",
   "pygments_lexer": "ipython3",
   "version": "3.7.3"
  }
 },
 "nbformat": 4,
 "nbformat_minor": 2
}
