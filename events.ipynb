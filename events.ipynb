{
 "cells": [
  {
   "cell_type": "code",
   "execution_count": 61,
   "metadata": {},
   "outputs": [],
   "source": [
    "from event_generator import Events"
   ]
  },
  {
   "cell_type": "code",
   "execution_count": 184,
   "metadata": {},
   "outputs": [],
   "source": [
    "import matplotlib.pyplot as plt\n",
    "import matplotlib.dates as mdates\n",
    "import numpy as np\n",
    "def plot(events):\n",
    "    fig, ax = plt.subplots(figsize=(20,1))\n",
    "    plt.plot(events, np.zeros_like(events), 'or', marker='|', markersize=15)\n",
    "    xfmt = mdates.DateFormatter('%d-%m-%y %H:%M:%S')\n",
    "    ax.xaxis.set_major_formatter(xfmt)\n",
    "    ax.set_yticklabels([])\n",
    "    plt.grid()\n",
    "#     plt.savefig(\"example1.png\", bbox_inches='tight')\n",
    "    plt.show()"
   ]
  },
  {
   "cell_type": "code",
   "execution_count": 183,
   "metadata": {},
   "outputs": [
    {
     "data": {
      "image/png": "[encoded data removed]",
      "text/plain": [
       "<Figure size 1440x72 with 1 Axes>"
      ]
     },
     "metadata": {
      "needs_background": "light"
     },
     "output_type": "display_data"
    }
   ],
   "source": [
    "a = Events(1/6, [['2020-10-22 09:00:00.000000','2020-10-22 09:05:00.000000'],['2020-10-22 09:10:00.000000','2020-10-22 09:25:00.000000']], 300, 100)\n",
    "plot(a.events)\n"
   ]
  },
  {
   "cell_type": "markdown",
   "metadata": {},
   "source": [
    "Времена между событиями подчиняются экспоненциальному распределению $Exp(\\lambda)$\n",
    "\n",
    "Для $Exp(\\lambda)\\;\\;$: $\\displaystyle\\mathbb{E}[X^n]=\\frac{n!}{\\lambda^n}$\n",
    "\n",
    "$\\displaystyle\\lambda_n=\\sqrt[n]{\\frac{n!}{\\mathbb{E}[X^n]}}$\n"
   ]
  },
  {
   "cell_type": "code",
   "execution_count": 43,
   "metadata": {},
   "outputs": [
    {
     "data": {
      "text/html": [
       "<table>\n",
       "<tbody>\n",
       "<tr><td>m                </td><td>$\\lambda_1$       </td><td>$\\lambda_2$       </td><td>$\\lambda_3$      </td></tr>\n",
       "<tr><td>20.97512611748017</td><td>20.725062935301693</td><td>20.713718016002645</td><td>20.65041063847571</td></tr>\n",
       "<tr><td>60.1277230330034 </td><td>59.862010809938475</td><td>59.930264323387306</td><td>60.00194368669954</td></tr>\n",
       "<tr><td>97.78810265386808</td><td>98.19144604270278 </td><td>98.31632511659457 </td><td>98.47285170567979</td></tr>\n",
       "<tr><td>4.430646471089839</td><td>4.544762136290594 </td><td>4.578081030743835 </td><td>4.61685605345335 </td></tr>\n",
       "<tr><td>40.83535515514861</td><td>40.61202912200563 </td><td>40.652502391873334</td><td>40.72848636298198</td></tr>\n",
       "</tbody>\n",
       "</table>"
      ],
      "text/plain": [
       "<IPython.core.display.HTML object>"
      ]
     },
     "metadata": {},
     "output_type": "display_data"
    }
   ],
   "source": [
    "import random\n",
    "from IPython.display import HTML, display\n",
    "import tabulate\n",
    "\n",
    "m0 = []\n",
    "m1 = []\n",
    "m2 = []\n",
    "m3 = []\n",
    "for n in range(5):\n",
    "    m = random.random()*100\n",
    "    a = Events(m, [['2020-10-22 08:15:27.243860','2020-10-22 08:27:00.713311']], 300, 100)\n",
    "    l0, l1, l2, l3 = Check_Poissoness(a)\n",
    "    m0.append(l0)\n",
    "    m1.append(l1)\n",
    "    m2.append(l2)\n",
    "    m3.append(l3)\n",
    "\n",
    "table = [[\"m\", *m0],\n",
    "         [\"$\\lambda_1$\",*m1],\n",
    "         [\"$\\lambda_2$\",*m2],\n",
    "         [\"$\\lambda_3$\",*m3]]\n",
    "table = map(list, zip(*table)) #транспонирование\n",
    "display(HTML(tabulate.tabulate(table, tablefmt='html')))"
   ]
  },
  {
   "cell_type": "code",
   "execution_count": 185,
   "metadata": {},
   "outputs": [
    {
     "data": {
      "image/png": "[encoded data removed]",
      "text/plain": [
       "<Figure size 1440x72 with 1 Axes>"
      ]
     },
     "metadata": {
      "needs_background": "light"
     },
     "output_type": "display_data"
    }
   ],
   "source": [
    "a = Events(1, [['2020-10-22 09:00:00.000000','2020-10-22 10:00:00.000000']], 23, 50)\n",
    "plot(a.events)\n",
    "evnts = np.array(a.events_in_seconds)"
   ]
  },
  {
   "cell_type": "code",
   "execution_count": 193,
   "metadata": {},
   "outputs": [
    {
     "data": {
      "image/png": "[encoded data removed]",
      "text/plain": [
       "<Figure size 432x288 with 1 Axes>"
      ]
     },
     "metadata": {
      "needs_background": "light"
     },
     "output_type": "display_data"
    }
   ],
   "source": [
    "period = 73\n",
    "n, bins, patches = plt.hist(evnts%period/period, 100, range=(0,1))\n",
    "plt.xlabel('Phase')\n",
    "plt.ylabel('Number of events')\n",
    "plt.show()"
   ]
  },
  {
   "cell_type": "code",
   "execution_count": 196,
   "metadata": {},
   "outputs": [
    {
     "data": {
      "image/png": "[encoded data removed]",
      "text/plain": [
       "<Figure size 432x288 with 1 Axes>"
      ]
     },
     "metadata": {
      "needs_background": "light"
     },
     "output_type": "display_data"
    }
   ],
   "source": [
    "period = 80\n",
    "n, bins, patches = plt.hist(evnts%period/period, 100, range=(0,1))\n",
    "plt.xlabel('Phase')\n",
    "plt.ylabel('Number of events')\n",
    "plt.show()\n"
   ]
  },
  {
   "cell_type": "code",
   "execution_count": null,
   "metadata": {},
   "outputs": [],
   "source": []
  }
 ],
 "metadata": {
  "kernelspec": {
   "display_name": "Python 3",
   "language": "python",
   "name": "python3"
  },
  "language_info": {
   "codemirror_mode": {
    "name": "ipython",
    "version": 3
   },
   "file_extension": ".py",
   "mimetype": "text/x-python",
   "name": "python",
   "nbconvert_exporter": "python",
   "pygments_lexer": "ipython3",
   "version": "3.7.3"
  }
 },
 "nbformat": 4,
 "nbformat_minor": 2
}
